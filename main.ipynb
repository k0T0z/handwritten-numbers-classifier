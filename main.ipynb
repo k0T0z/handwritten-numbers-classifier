{
 "cells": [
  {
   "cell_type": "code",
   "execution_count": 1,
   "metadata": {},
   "outputs": [],
   "source": [
    "import numpy as np\n",
    "import torch\n",
    "import torchvision\n",
    "import matplotlib.pyplot as plt\n",
    "from time import time\n",
    "from torchvision import datasets, transforms\n",
    "from torch import nn as nn\n",
    "from torch.optim import SGD as sgd\n",
    "import pandas as pd\n",
    "import torchviz\n",
    "\n",
    "import torch.nn.functional as F\n",
    "from torch.utils.data import DataLoader, Dataset"
   ]
  },
  {
   "cell_type": "code",
   "execution_count": 2,
   "metadata": {},
   "outputs": [],
   "source": [
    "class CTDataset(Dataset):\n",
    "    def __init__(self, filepath):\n",
    "        self.dataset = pd.read_csv(filepath)\n",
    "\n",
    "        self.x = self.dataset.iloc[:, 1:].values  # all columns except the first one\n",
    "        self.y = self.dataset.iloc[:, 0].values  # first column is the label\n",
    "\n",
    "        # Reshape features into images (assuming images are 28x28 pixels)\n",
    "        self.x = self.x.reshape(-1, 28, 28)\n",
    "\n",
    "        # Convert to PyTorch tensors\n",
    "        self.x = torch.tensor(self.x)\n",
    "        self.y = torch.tensor(self.y)\n",
    "\n",
    "        # Normalize image pixels\n",
    "        self.x = self.x / 255.0\n",
    "\n",
    "        # Encoding labels into one-hot vectors\n",
    "        self.y = F.one_hot(self.y, num_classes=10).to(float)\n",
    "\n",
    "    def __len__(self):\n",
    "        return self.x.shape[0]\n",
    "\n",
    "    def __getitem__(self, i):\n",
    "        return self.x[i], self.y[i]"
   ]
  },
  {
   "cell_type": "code",
   "execution_count": 3,
   "metadata": {},
   "outputs": [
    {
     "data": {
      "text/plain": [
       "60000"
      ]
     },
     "execution_count": 3,
     "metadata": {},
     "output_type": "execute_result"
    }
   ],
   "source": [
    "train_ds = CTDataset(\"mnist_train.csv\")\n",
    "\n",
    "len(train_ds)"
   ]
  },
  {
   "cell_type": "code",
   "execution_count": 4,
   "metadata": {},
   "outputs": [
    {
     "data": {
      "text/plain": [
       "10000"
      ]
     },
     "execution_count": 4,
     "metadata": {},
     "output_type": "execute_result"
    }
   ],
   "source": [
    "test_ds = CTDataset(\"mnist_test.csv\")\n",
    "len(test_ds)"
   ]
  },
  {
   "cell_type": "code",
   "execution_count": 5,
   "metadata": {},
   "outputs": [],
   "source": [
    "train_dl = DataLoader(train_ds, batch_size=5)"
   ]
  },
  {
   "cell_type": "code",
   "execution_count": 6,
   "metadata": {},
   "outputs": [],
   "source": [
    "test_dl = DataLoader(test_ds, batch_size=5)"
   ]
  },
  {
   "cell_type": "code",
   "execution_count": 7,
   "metadata": {},
   "outputs": [],
   "source": [
    "class MyNeuralNet(nn.Module):\n",
    "    def __init__(self):\n",
    "        super().__init__()\n",
    "        self.Matrix1 = nn.Linear(28**2, 100)  # bias=False\n",
    "        self.Matrix2 = nn.Linear(100, 50)  # bias=False\n",
    "        self.Matrix3 = nn.Linear(50, 10)  # bias=False\n",
    "        self.R = nn.ReLU()\n",
    "\n",
    "    def forward(self, x):\n",
    "        # Converting images from matrices to vectors (AKA flattening)\n",
    "        x = x.view(-1, 28**2)\n",
    "        x = self.R(self.Matrix1(x))\n",
    "        x = self.R(self.Matrix2(x))\n",
    "        x = self.Matrix3(x)\n",
    "        return x.squeeze()"
   ]
  },
  {
   "cell_type": "code",
   "execution_count": 8,
   "metadata": {},
   "outputs": [],
   "source": [
    "f = MyNeuralNet()"
   ]
  },
  {
   "cell_type": "code",
   "execution_count": 18,
   "metadata": {},
   "outputs": [],
   "source": [
    "if not f.training:\n",
    "    f.train()\n",
    "\n",
    "\n",
    "# Train model function\n",
    "def train_model(dl, f, n_epochs=20, lr=0.01):\n",
    "    # Optimization\n",
    "    opt = sgd(f.parameters(), lr=lr)\n",
    "    L = nn.CrossEntropyLoss()\n",
    "\n",
    "    # Train model\n",
    "    losses = []\n",
    "    epochs = []\n",
    "\n",
    "    # Loop over the dataset multiple times\n",
    "    for epoch in range(n_epochs):\n",
    "        print(f\"Epoch {epoch}\")\n",
    "        N = len(dl) # 12'000 batches\n",
    "        \n",
    "        # Loop over all batches\n",
    "        for i, (x, y) in enumerate(dl):\n",
    "            # Update the weights of the network\n",
    "            opt.zero_grad()\n",
    "            loss_value = L(f(x), y)\n",
    "            loss_value.backward()\n",
    "            opt.step()\n",
    "            # Store training data for plotting\n",
    "            epochs.append(epoch + i / N) # epochs.append(epoch + i / N)\n",
    "            losses.append(loss_value.item())\n",
    "    return np.array(epochs), np.array(losses)"
   ]
  },
  {
   "cell_type": "code",
   "execution_count": 21,
   "metadata": {},
   "outputs": [
    {
     "name": "stdout",
     "output_type": "stream",
     "text": [
      "Epoch 0\n",
      "Epoch 1\n",
      "Epoch 2\n",
      "Epoch 3\n",
      "Epoch 4\n",
      "Epoch 5\n",
      "Epoch 6\n",
      "Epoch 7\n",
      "Epoch 8\n",
      "Epoch 9\n",
      "Epoch 10\n",
      "Epoch 11\n",
      "Epoch 12\n",
      "Epoch 13\n",
      "Epoch 14\n",
      "Epoch 15\n",
      "Epoch 16\n",
      "Epoch 17\n",
      "Epoch 18\n",
      "Epoch 19\n"
     ]
    }
   ],
   "source": [
    "epoch_data, loss_data = train_model(train_dl, f)"
   ]
  },
  {
   "cell_type": "code",
   "execution_count": 11,
   "metadata": {},
   "outputs": [
    {
     "data": {
      "text/plain": [
       "Text(0.5, 1.0, 'Cross Entropy (per batch)')"
      ]
     },
     "execution_count": 11,
     "metadata": {},
     "output_type": "execute_result"
    },
    {
     "data": {
      "image/png": "[encoded data removed]",
      "text/plain": [
       "<Figure size 640x480 with 1 Axes>"
      ]
     },
     "metadata": {},
     "output_type": "display_data"
    }
   ],
   "source": [
    "plt.plot(epoch_data, loss_data)\n",
    "plt.xlabel(\"Epoch Number\")\n",
    "plt.ylabel(\"Cross Entropy\")\n",
    "plt.title(\"Cross Entropy (per batch)\")"
   ]
  },
  {
   "cell_type": "code",
   "execution_count": 12,
   "metadata": {},
   "outputs": [],
   "source": [
    "epoch_data = epoch_data.reshape(20,-1).mean(axis=1)"
   ]
  },
  {
   "cell_type": "code",
   "execution_count": 13,
   "metadata": {},
   "outputs": [],
   "source": [
    "loss_data = loss_data.reshape(20,-1).mean(axis=1)"
   ]
  },
  {
   "cell_type": "code",
   "execution_count": 14,
   "metadata": {},
   "outputs": [
    {
     "data": {
      "image/png": "[encoded data removed]",
      "text/plain": [
       "<Figure size 640x480 with 1 Axes>"
      ]
     },
     "metadata": {},
     "output_type": "display_data"
    }
   ],
   "source": [
    "plt.plot(epoch_data, loss_data, marker='o', label='Loss')\n",
    "plt.xlabel(\"Epoch Number\")\n",
    "plt.ylabel(\"Cross Entropy\")\n",
    "plt.title(\"Cross Entropy (per batch)\")\n",
    "plt.legend()\n",
    "plt.savefig(\"plt.png\")"
   ]
  },
  {
   "cell_type": "code",
   "execution_count": 15,
   "metadata": {},
   "outputs": [],
   "source": [
    "# test_x, test_y = test_ds[:]\n",
    "# yhats = f(test_x).argmax(axis=1)"
   ]
  },
  {
   "cell_type": "code",
   "execution_count": 16,
   "metadata": {},
   "outputs": [],
   "source": [
    "# fig, ax = plt.subplots(10,4,figsize=(10,15))\n",
    "# for i in range(40):\n",
    "#     plt.subplot(10,4,i+1)\n",
    "#     plt.imshow(test_x[i])\n",
    "#     plt.title(f'Predicted Digit: {yhats[i]}')\n",
    "# fig.tight_layout()\n",
    "# plt.show()"
   ]
  },
  {
   "cell_type": "code",
   "execution_count": 22,
   "metadata": {},
   "outputs": [
    {
     "name": "stdout",
     "output_type": "stream",
     "text": [
      "Loss: 0.000000215\n",
      "Total samples: 10000\n",
      "Correct predictions: 9799\n",
      "Accuracy: 97.99%\n"
     ]
    }
   ],
   "source": [
    "# Assuming you have 'test_loader' containing test data and labels\n",
    "correct_predictions = 0\n",
    "total_samples = 0\n",
    "\n",
    "# Set the model to evaluation mode\n",
    "if f.training:\n",
    "    f.eval()\n",
    "\n",
    "# Iterate over the test data\n",
    "with torch.no_grad():\n",
    "    for x, y in test_dl:\n",
    "        # Make predictions\n",
    "        outputs = f(x)\n",
    "\n",
    "        # Get predicted class labels\n",
    "        predicted_labels = torch.argmax(outputs, dim=1)\n",
    "\n",
    "        # Convert one-hot encoded labels to class indices\n",
    "        y = torch.argmax(y, dim=1)\n",
    "        \n",
    "        # Compare predicted labels with actual labels\n",
    "        correct_predictions += (predicted_labels == y).sum().item()\n",
    "        total_samples += y.size(0)\n",
    "\n",
    "# Calculate accuracy\n",
    "accuracy = correct_predictions / total_samples\n",
    "\n",
    "print(f\"Loss: {loss_data[len(loss_data)-1]:.9f}\")\n",
    "print(f\"Total samples: {total_samples}\")\n",
    "print(f\"Correct predictions: {correct_predictions}\")\n",
    "print(f\"Accuracy: {accuracy:.2%}\")"
   ]
  }
 ],
 "metadata": {
  "kernelspec": {
   "display_name": "Python 3",
   "language": "python",
   "name": "python3"
  },
  "language_info": {
   "codemirror_mode": {
    "name": "ipython",
    "version": 3
   },
   "file_extension": ".py",
   "mimetype": "text/x-python",
   "name": "python",
   "nbconvert_exporter": "python",
   "pygments_lexer": "ipython3",
   "version": "3.10.12"
  },
  "orig_nbformat": 4
 },
 "nbformat": 4,
 "nbformat_minor": 2
}
